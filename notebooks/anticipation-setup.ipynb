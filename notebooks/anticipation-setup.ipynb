{
 "cells": [
  {
   "cell_type": "code",
   "execution_count": 1,
   "metadata": {},
   "outputs": [],
   "source": [
    "DATAPATH = '../midi/rag-split'"
   ]
  },
  {
   "cell_type": "code",
   "execution_count": 2,
   "metadata": {},
   "outputs": [
    {
     "name": "stdout",
     "output_type": "stream",
     "text": [
      "../midi/rag-split\n"
     ]
    }
   ],
   "source": [
    "!echo $DATAPATH"
   ]
  },
  {
   "cell_type": "code",
   "execution_count": 10,
   "metadata": {},
   "outputs": [
    {
     "name": "stdout",
     "output_type": "stream",
     "text": [
      "Files have been split into subfolders in ../midi/rag-split\n"
     ]
    }
   ],
   "source": [
    "import os\n",
    "import shutil\n",
    "import hashlib\n",
    "\n",
    "def split_midi_files(input_folder, output_folder):\n",
    "    # Create the output folder if it doesn't exist\n",
    "    os.makedirs(output_folder, exist_ok=True)\n",
    "    \n",
    "    # Create subfolders for each split\n",
    "    for split in '0123456789abcdef':\n",
    "        os.makedirs(os.path.join(output_folder, split), exist_ok=True)\n",
    "    \n",
    "    # Iterate through all files in the input folder\n",
    "    for filename in os.listdir(input_folder):\n",
    "        if filename.endswith('.mid') or filename.endswith('.midi'):\n",
    "            file_path = os.path.join(input_folder, filename)\n",
    "            \n",
    "            # Calculate MD5 hash of the file\n",
    "            with open(file_path, 'rb') as f:\n",
    "                file_hash = hashlib.md5(f.read()).hexdigest()\n",
    "            \n",
    "            # Determine which subfolder to put the file in\n",
    "            subfolder = file_hash[0]\n",
    "            \n",
    "            # Copy the file to the appropriate subfolder\n",
    "            destination = os.path.join(output_folder, subfolder, filename)\n",
    "            shutil.copy2(file_path, destination)\n",
    "    \n",
    "    print(f\"Files have been split into subfolders in {output_folder}\")\n",
    "\n",
    "# Usage\n",
    "input_folder = \"../midi/rag\"\n",
    "output_folder = \"../midi/rag-split\"\n",
    "split_midi_files(input_folder, output_folder)"
   ]
  },
  {
   "cell_type": "code",
   "execution_count": 11,
   "metadata": {},
   "outputs": [
    {
     "name": "stdout",
     "output_type": "stream",
     "text": [
      "Preprocessing 152 files with 16 workers\n",
      "Preprocess: 100%|█████████████████████████████| 152/152 [00:02<00:00, 67.03it/s]\n",
      "Successfully processed 152 files (discarded 0.0%)\n"
     ]
    }
   ],
   "source": [
    "!python ./anticipation/train/midi-preprocess.py $DATAPATH"
   ]
  },
  {
   "cell_type": "code",
   "execution_count": 12,
   "metadata": {},
   "outputs": [
    {
     "name": "stdout",
     "output_type": "stream",
     "text": [
      "Tokenizing LakhMIDI\n",
      "  encoding type: arrival\n",
      "  train split: ['0', '1', '2', '3', '4', '5', '6', '7', '8', '9', 'a', 'b', 'c', 'd']\n",
      "  validation split: ['e']\n",
      "  test split: ['f']\n",
      "Tokenization parameters:\n",
      "  anticipation interval = 5s\n",
      "  augment = 1x\n",
      "  max track length = 3600s\n",
      "  min track length = 10s\n",
      "  min track events = 100\n",
      "\n",
      "\n",
      "\n",
      "\n",
      "\n",
      "\n",
      "#5:   0%|                                                 | 0/7 [00:00<?, ?it/s]\u001b[A\u001b[A\u001b[A\u001b[A\u001b[A\u001b[A\n",
      "\n",
      "\n",
      "\n",
      "\n",
      "\n",
      "\n",
      "\n",
      "\n",
      "\n",
      "\n",
      "#10:   0%|                                                | 0/9 [00:00<?, ?it/s]\u001b[A\u001b[A\u001b[A\u001b[A\u001b[A\u001b[A\u001b[A\u001b[A\u001b[A\u001b[A\u001b[A\n",
      "\n",
      "\n",
      "\n",
      "\n",
      "\n",
      "\n",
      "\n",
      "\n",
      "\n",
      "\n",
      "\n",
      "#11:   0%|                                                | 0/9 [00:00<?, ?it/s]\u001b[A\u001b[A\u001b[A\u001b[A\u001b[A\u001b[A\u001b[A\u001b[A\u001b[A\u001b[A\u001b[A\u001b[A\n",
      "#0:   0%|                                                | 0/10 [00:00<?, ?it/s]\u001b[A\n",
      "\n",
      "\n",
      "\n",
      "\n",
      "#4:   0%|                                                | 0/10 [00:00<?, ?it/s]\u001b[A\u001b[A\u001b[A\u001b[A\u001b[A\n",
      "\n",
      "#1:   0%|                                                | 0/11 [00:00<?, ?it/s]\u001b[A\u001b[A\n",
      "\n",
      "\n",
      "\n",
      "\n",
      "\n",
      "\n",
      "\n",
      "\n",
      "\n",
      "#9:   0%|                                                | 0/16 [00:00<?, ?it/s]\u001b[A\u001b[A\u001b[A\u001b[A\u001b[A\u001b[A\u001b[A\u001b[A\u001b[A\u001b[A\n",
      "\n",
      "\n",
      "\n",
      "\n",
      "\n",
      "\n",
      "\n",
      "\n",
      "#8:   0%|                                                 | 0/5 [00:00<?, ?it/s]\u001b[A\u001b[A\u001b[A\u001b[A\u001b[A\u001b[A\u001b[A\u001b[A\u001b[A\n",
      "\n",
      "\n",
      "\n",
      "\n",
      "\n",
      "\n",
      "#6:   0%|                                                 | 0/4 [00:00<?, ?it/s]\u001b[A\u001b[A\u001b[A\u001b[A\u001b[A\u001b[A\u001b[A\n",
      "\n",
      "\n",
      "#2:   0%|                                                 | 0/7 [00:00<?, ?it/s]\u001b[A\u001b[A\u001b[A\n",
      "\n",
      "\n",
      "\n",
      "\n",
      "\n",
      "\n",
      "\n",
      "#7:   0%|                                                 | 0/7 [00:00<?, ?it/s]\u001b[A\u001b[A\u001b[A\u001b[A\u001b[A\u001b[A\u001b[A\u001b[A\n",
      "\n",
      "\n",
      "\n",
      "#3:   0%|                                                | 0/17 [00:00<?, ?it/s]\u001b[A\u001b[A\u001b[A\u001b[A\n",
      "\n",
      "\n",
      "\n",
      "\n",
      "\n",
      "\n",
      "\n",
      "\n",
      "\n",
      "\n",
      "\n",
      "\n",
      "#12:   0%|                                               | 0/14 [00:00<?, ?it/s]\u001b[A\u001b[A\u001b[A\u001b[A\u001b[A\u001b[A\u001b[A\u001b[A\u001b[A\u001b[A\u001b[A\u001b[A\u001b[A\n",
      "\n",
      "\n",
      "\n",
      "\n",
      "\n",
      "\n",
      "\n",
      "\n",
      "\n",
      "\n",
      "\n",
      "\n",
      "\n",
      "#13:   0%|                                               | 0/13 [00:00<?, ?it/s]\u001b[A\u001b[A\u001b[A\u001b[A\u001b[A\u001b[A\u001b[A\u001b[A\u001b[A\u001b[A\u001b[A\u001b[A\u001b[A\u001b[A\n",
      "\n",
      "\n",
      "\n",
      "\n",
      "\n",
      "\n",
      "\n",
      "\n",
      "\n",
      "\n",
      "\n",
      "\n",
      "\n",
      "\n",
      "\n",
      "#15:   0%|                                                | 0/7 [00:00<?, ?it/s]\u001b[A\u001b[A\u001b[A\u001b[A\u001b[A\u001b[A\u001b[A\u001b[A\u001b[A\u001b[A\u001b[A\u001b[A\u001b[A\u001b[A\u001b[A\u001b[A\n",
      "\n",
      "\n",
      "\n",
      "\n",
      "\n",
      "\n",
      "\n",
      "\n",
      "\n",
      "\n",
      "\n",
      "\n",
      "\n",
      "\n",
      "#8: 100%|████████████████████████████████████████| 5/5 [00:00<00:00, 126.17it/s]\u001b[A\u001b[A\u001b[A\u001b[A\u001b[A\u001b[A\u001b[A\u001b[A\u001b[A\u001b[A\u001b[A\u001b[A\u001b[A\u001b[A\u001b[A\n",
      "#6: 100%|████████████████████████████████████████| 4/4 [00:00<00:00, 105.83it/s]\n",
      "#5: 100%|████████████████████████████████████████| 7/7 [00:00<00:00, 128.75it/s]\n",
      "#2: 100%|████████████████████████████████████████| 7/7 [00:00<00:00, 132.81it/s]\n",
      "#7: 100%|████████████████████████████████████████| 7/7 [00:00<00:00, 128.85it/s]\n",
      "#10: 100%|███████████████████████████████████████| 9/9 [00:00<00:00, 129.95it/s]\n",
      "#0: 100%|██████████████████████████████████████| 10/10 [00:00<00:00, 141.05it/s]\n",
      "#11: 100%|███████████████████████████████████████| 9/9 [00:00<00:00, 124.54it/s]\n",
      "#1: 100%|██████████████████████████████████████| 11/11 [00:00<00:00, 154.63it/s]\n",
      "#4: 100%|██████████████████████████████████████| 10/10 [00:00<00:00, 135.92it/s]\n",
      "#14: 100%|███████████████████████████████████████| 6/6 [00:00<00:00, 186.29it/s]\n",
      "#15: 100%|███████████████████████████████████████| 7/7 [00:00<00:00, 154.16it/s]\n",
      "#12: 100%|█████████████████████████████████████| 14/14 [00:00<00:00, 204.94it/s]\n",
      "#13: 100%|█████████████████████████████████████| 13/13 [00:00<00:00, 191.87it/s]\n",
      "#9: 100%|██████████████████████████████████████| 16/16 [00:00<00:00, 170.61it/s]\n",
      "#3: 100%|██████████████████████████████████████| 17/17 [00:00<00:00, 180.14it/s]\n",
      "Tokenization complete.\n",
      "  => Processed 892 training sequences\n",
      "  => Inserted 523 REST tokens (0.17% of events)\n",
      "  => Discarded 0 event sequences\n",
      "      - 0 too short\n",
      "      - 0 too long\n",
      "      - 0 too many instruments\n",
      "  => Discarded 0 training sequences\n",
      "  => Truncated 0 duration times (0.0% of durations)\n",
      "Remember to shuffle the training split!\n"
     ]
    }
   ],
   "source": [
    "!python ./anticipation/train/tokenize-lakh.py $DATAPATH --augment 1"
   ]
  },
  {
   "cell_type": "code",
   "execution_count": 17,
   "metadata": {},
   "outputs": [],
   "source": [
    "!mv $DATAPATH/tokenized-events-e.txt $DATAPATH/valid.txt\n",
    "!mv $DATAPATH/tokenized-events-f.txt $DATAPATH/test.txt\n",
    "!cat $DATAPATH/tokenized-events-*.txt > $DATAPATH/train-ordered.txt"
   ]
  },
  {
   "cell_type": "code",
   "execution_count": 20,
   "metadata": {},
   "outputs": [],
   "source": [
    "# I had to run `brew install coreutils` to get this to work\n",
    "!shuf $DATAPATH/train-ordered.txt > $DATAPATH/train.txt"
   ]
  },
  {
   "cell_type": "markdown",
   "metadata": {},
   "source": [
    "### Cleanup on this"
   ]
  },
  {
   "cell_type": "code",
   "execution_count": 21,
   "metadata": {},
   "outputs": [],
   "source": [
    "!rm $DATAPATH/*/*.txt\n",
    "!rm $DATAPATH/tokenized-events-*.txt\n",
    "!rm $DATAPATH/train-ordered.txt"
   ]
  }
 ],
 "metadata": {
  "kernelspec": {
   "display_name": "anticipation",
   "language": "python",
   "name": "python3"
  },
  "language_info": {
   "codemirror_mode": {
    "name": "ipython",
    "version": 3
   },
   "file_extension": ".py",
   "mimetype": "text/x-python",
   "name": "python",
   "nbconvert_exporter": "python",
   "pygments_lexer": "ipython3",
   "version": "3.11.10"
  }
 },
 "nbformat": 4,
 "nbformat_minor": 2
}
