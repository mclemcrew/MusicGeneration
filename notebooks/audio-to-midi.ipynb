{
 "cells": [
  {
   "cell_type": "code",
   "execution_count": null,
   "metadata": {},
   "outputs": [],
   "source": [
    "# Only uncomment and run once in your terminal.  If you're running as a notebook, you may need to reload this window for this to work.\n",
    "\n",
    "# !conda env create -f ./envs/audio-to-midi-environment.yml\n",
    "# !conda activate audio-to-midi"
   ]
  },
  {
   "cell_type": "code",
   "execution_count": null,
   "metadata": {},
   "outputs": [],
   "source": [
    "!pip install basic-pitch\n",
    "!pip install music21\n",
    "!pip install librosa"
   ]
  },
  {
   "cell_type": "code",
   "execution_count": null,
   "metadata": {},
   "outputs": [],
   "source": [
    "import glob\n",
    "import librosa\n",
    "from basic_pitch.inference import predict_and_save, Model\n",
    "from basic_pitch import ICASSP_2022_MODEL_PATH\n",
    "\n",
    "basic_pitch_model = Model(ICASSP_2022_MODEL_PATH)\n",
    "\n",
    "audio_directory = '../audio/'\n",
    "audio_files = glob.glob(audio_directory + '*.mp3')\n",
    "\n",
    "for audio_file in audio_files:\n",
    "    \n",
    "    # Estimate BPM using librosa\n",
    "    print(audio_file)\n",
    "    y, sr = librosa.load(audio_file)\n",
    "    tempo, beat_frames = librosa.beat.beat_track(y=y, sr=sr)\n",
    "    \n",
    "    tempo = int(round(tempo[0]))\n",
    "    print(f\"Tempo: {tempo}\")\n",
    "\n",
    "    predict_and_save(\n",
    "        audio_path_list=[audio_file],\n",
    "        output_directory='../midi-out/',\n",
    "        save_model_outputs=True,\n",
    "        save_midi=True,\n",
    "        sonify_midi=True,\n",
    "        save_notes=True,\n",
    "        minimum_note_length=127.70,\n",
    "        model_or_model_path=basic_pitch_model,\n",
    "        onset_threshold=0.5,\n",
    "        frame_threshold=0.3,\n",
    "        sonification_samplerate=44100,\n",
    "        midi_tempo=tempo  # Use estimated tempo here\n",
    "    )"
   ]
  },
  {
   "cell_type": "code",
   "execution_count": 5,
   "metadata": {},
   "outputs": [],
   "source": [
    "import music21\n",
    "import matplotlib.pyplot as plt\n",
    "%matplotlib inline\n",
    "\n",
    "midi_file = music21.converter.parse('../midi/Cello_basic_pitch.mid')"
   ]
  },
  {
   "cell_type": "code",
   "execution_count": null,
   "metadata": {},
   "outputs": [],
   "source": [
    "midi_file.show('midi')"
   ]
  },
  {
   "cell_type": "code",
   "execution_count": null,
   "metadata": {},
   "outputs": [],
   "source": [
    "midi_file.plot()"
   ]
  }
 ],
 "metadata": {
  "kernelspec": {
   "display_name": "audio-to-midi",
   "language": "python",
   "name": "python3"
  },
  "language_info": {
   "codemirror_mode": {
    "name": "ipython",
    "version": 3
   },
   "file_extension": ".py",
   "mimetype": "text/x-python",
   "name": "python",
   "nbconvert_exporter": "python",
   "pygments_lexer": "ipython3",
   "version": "3.10.15"
  }
 },
 "nbformat": 4,
 "nbformat_minor": 2
}
